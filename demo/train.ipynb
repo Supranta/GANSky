{
 "cells": [
  {
   "cell_type": "code",
   "execution_count": null,
   "metadata": {
    "collapsed": true,
    "pycharm": {
     "name": "#%%\n"
    }
   },
   "outputs": [],
   "source": [
    "import sys\n",
    "sys.path.append('../')\n",
    "import numpy as np\n",
    "import healpy as hp\n",
    "import torch\n",
    "import wlgan as wlg"
   ]
  },
  {
   "cell_type": "code",
   "execution_count": null,
   "metadata": {},
   "outputs": [],
   "source": [
    "num_bins = 4"
   ]
  },
  {
   "cell_type": "code",
   "execution_count": null,
   "metadata": {
    "collapsed": false,
    "pycharm": {
     "name": "#%%\n"
    }
   },
   "outputs": [],
   "source": [
    "gen_mask = np.load('gen_mask.npy')\n",
    "gen_mask = hp.reorder(gen_mask, r2n=True)\n",
    "\n",
    "disc_mask = np.load('disc_mask.npy')\n",
    "disc_mask = hp.reorder(disc_mask, r2n=True)"
   ]
  },
  {
   "cell_type": "code",
   "execution_count": null,
   "metadata": {
    "collapsed": false,
    "pycharm": {
     "name": "#%%\n"
    }
   },
   "outputs": [],
   "source": [
    "real_data = wlg.ArrayDataset('data/real')\n",
    "fake_data = wlg.ArrayDataset('data/fake')"
   ]
  },
  {
   "cell_type": "code",
   "execution_count": null,
   "metadata": {
    "collapsed": false,
    "pycharm": {
     "name": "#%%\n"
    }
   },
   "outputs": [],
   "source": [
    "trainer = wlg.Trainer(num_bins, gen_mask, disc_mask, real_data, fake_data, save_name='ckpt.pt', writer_dir='demo_run')\n",
    "trainer.train(100000)"
   ]
  }
 ],
 "metadata": {
  "kernelspec": {
   "display_name": "Python 3.8.13 ('karmma')",
   "language": "python",
   "name": "python3"
  },
  "language_info": {
   "codemirror_mode": {
    "name": "ipython",
    "version": 3
   },
   "file_extension": ".py",
   "mimetype": "text/x-python",
   "name": "python",
   "nbconvert_exporter": "python",
   "pygments_lexer": "ipython3",
   "version": "3.8.13"
  },
  "vscode": {
   "interpreter": {
    "hash": "91419c8b6117786492fef1b466333704a5d302f012c63fa1242d88f499539a57"
   }
  }
 },
 "nbformat": 4,
 "nbformat_minor": 0
}
