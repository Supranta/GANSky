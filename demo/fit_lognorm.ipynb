{
 "cells": [
  {
   "cell_type": "code",
   "execution_count": 17,
   "metadata": {},
   "outputs": [],
   "source": [
    "import numpy as np\n",
    "import healpy as hp\n",
    "import pyccl\n",
    "from astropy.io import fits\n",
    "from tqdm.auto import tqdm, trange\n",
    "import matplotlib.pyplot as plt\n",
    "from scipy.stats import lognorm\n",
    "from scipy.special import eval_legendre\n",
    "from joblib import Parallel, delayed\n",
    "import pickle"
   ]
  },
  {
   "cell_type": "code",
   "execution_count": 18,
   "metadata": {},
   "outputs": [],
   "source": [
    "nside = 2048\n",
    "lmax = 2 * nside"
   ]
  },
  {
   "cell_type": "code",
   "execution_count": 19,
   "metadata": {},
   "outputs": [],
   "source": [
    "mock_base_dir = '/spiff/pierfied/Simulations/des_y3_mocks/'\n",
    "\n",
    "hdu = fits.open(mock_base_dir + '2pt_NG_final_2ptunblind_02_26_21_wnz_maglim_covupdate.fits')\n",
    "data = hdu['nz_source'].data\n",
    "y3_z_low = data['Z_LOW']\n",
    "y3_z_mid = data['Z_MID']\n",
    "y3_z_high = data['Z_HIGH']\n",
    "num_bins = 4\n",
    "y3_nz = np.zeros([num_bins, len(y3_z_mid)])\n",
    "for i in range(num_bins):\n",
    "    y3_nz[i] = data[f'BIN{i+1}']\n",
    "y3_nz[:,-1] = 0\n",
    "\n",
    "dz = y3_z_high - y3_z_low\n",
    "y3_nz /= np.sum(y3_nz * dz[None,:], axis=-1)[:,None]"
   ]
  },
  {
   "cell_type": "code",
   "execution_count": 20,
   "metadata": {},
   "outputs": [],
   "source": [
    "cosmo = pyccl.Cosmology(\n",
    "    Omega_c=0.233,\n",
    "    Omega_b=0.046,\n",
    "    h=0.7,\n",
    "    sigma8=0.82,\n",
    "    n_s=0.97\n",
    ")\n",
    "\n",
    "tracer = [pyccl.tracers.WeakLensingTracer(cosmo, (y3_z_mid, y3_nz[i])) for i in range(num_bins)]\n",
    "\n",
    "ell = np.arange(lmax+1)\n",
    "cl = np.array([pyccl.cls.angular_cl(cosmo, tracer[i], tracer[j], ell) for i in range(num_bins) for j in range(i, num_bins)])\n",
    "pw = hp.pixwin(nside, lmax=lmax)\n",
    "cl *= pw[None,:]**2"
   ]
  },
  {
   "cell_type": "code",
   "execution_count": 21,
   "metadata": {},
   "outputs": [
    {
     "data": {
      "application/vnd.jupyter.widget-view+json": {
       "model_id": "b7808e8b166941dfbf47dc96105b9bd7",
       "version_major": 2,
       "version_minor": 0
      },
      "text/plain": [
       "  0%|          | 0/10 [00:00<?, ?it/s]"
      ]
     },
     "metadata": {},
     "output_type": "display_data"
    }
   ],
   "source": [
    "nmocks = 10\n",
    "sim_cl = []\n",
    "k_samps = []\n",
    "for i in trange(nmocks):\n",
    "    mock = np.load(mock_base_dir + f'mocks/mock_{i}.npy')[:,0,:]\n",
    "    alm = hp.map2alm(mock, lmax=lmax, pol=False)\n",
    "    sim_cl.append([hp.alm2cl(alm[j], alm[k]) for j in range(num_bins) for k in range(j, num_bins)])\n",
    "    samp_inds = np.random.choice(mock.shape[-1], 10000, replace=False)\n",
    "    k_samps.append(mock[:,samp_inds])\n",
    "sim_cl = np.array(sim_cl)\n",
    "k_samps = np.array(k_samps)"
   ]
  },
  {
   "cell_type": "code",
   "execution_count": 22,
   "metadata": {},
   "outputs": [],
   "source": [
    "fit_cl = np.copy(cl)\n",
    "for i in range(len(cl)):\n",
    "    p = np.polyfit(np.arange(lmax+1), (cl / sim_cl.mean(axis=0))[i,:], 3)\n",
    "    fit_cl[i] /= np.polyval(p, np.arange(lmax+1))"
   ]
  },
  {
   "cell_type": "code",
   "execution_count": 23,
   "metadata": {},
   "outputs": [],
   "source": [
    "shift = np.zeros(num_bins)\n",
    "for i in range(num_bins):\n",
    "    shift[i] = -lognorm.fit(k_samps[:,i,:].ravel())[1]"
   ]
  },
  {
   "cell_type": "code",
   "execution_count": 24,
   "metadata": {},
   "outputs": [],
   "source": [
    "def compute_lognorm_cl_at_ell(mu, w, integrand, ell):\n",
    "    integrand = np.log(np.polynomial.legendre.legval(mu, integrand) + 1)\n",
    "    return 2 * np.pi * np.sum(w * integrand * eval_legendre(ell, mu))\n",
    "    \n",
    "def compute_lognorm_cl(cl, shift1, shift2, mu=None, w=None, order=2):\n",
    "    lmax = len(cl) - 1\n",
    "    lognorm_cl = np.zeros_like(cl)\n",
    "    \n",
    "    if mu is None or w is None:\n",
    "        mu, w = np.polynomial.legendre.leggauss(order * lmax)\n",
    "    \n",
    "    integrand = ((2 * np.arange(lmax + 1) + 1) * cl / (4 * np.pi * shift1 * shift2))\n",
    "    \n",
    "    lognorm_cl = np.array(Parallel(n_jobs=-1)(delayed(compute_lognorm_cl_at_ell)(mu, w, integrand, ell) for ell in range(lmax+1)))\n",
    "        \n",
    "    return lognorm_cl"
   ]
  },
  {
   "cell_type": "code",
   "execution_count": 25,
   "metadata": {},
   "outputs": [
    {
     "data": {
      "application/vnd.jupyter.widget-view+json": {
       "model_id": "7004d4480b3840b1bdf7780d247e387d",
       "version_major": 2,
       "version_minor": 0
      },
      "text/plain": [
       "  0%|          | 0/10 [00:00<?, ?it/s]"
      ]
     },
     "metadata": {},
     "output_type": "display_data"
    }
   ],
   "source": [
    "y_cl = []\n",
    "y_mu = np.zeros(num_bins)\n",
    "\n",
    "ind = 0\n",
    "order = 2\n",
    "mu, w = np.polynomial.legendre.leggauss(order * lmax)\n",
    "with tqdm(total=cl.shape[0]) as pbar:\n",
    "    for i in range(num_bins):\n",
    "        xi0 = np.polynomial.legendre.legval(1, (2 * np.arange(lmax+1) + 1) * fit_cl[ind]) / (4 * np.pi)\n",
    "        sigma2 = np.log(xi0 / (shift[i]**2) + 1)\n",
    "        y_mu[i] = np.log(shift[i]) - 0.5 * sigma2\n",
    "\n",
    "        for j in range(i, num_bins):\n",
    "            y_cl.append(compute_lognorm_cl(fit_cl[ind], shift[i], shift[j], mu, w))\n",
    "            ind += 1\n",
    "            pbar.update()\n",
    "y_cl = np.array(y_cl)"
   ]
  },
  {
   "cell_type": "code",
   "execution_count": 26,
   "metadata": {},
   "outputs": [],
   "source": [
    "lognorm_params = {'cl': fit_cl, 'shift': shift, 'y_cl': y_cl, 'mu': y_mu}\n",
    "pickle.dump(lognorm_params, open('lognorm_params.pkl', 'wb'))"
   ]
  },
  {
   "cell_type": "code",
   "execution_count": null,
   "metadata": {},
   "outputs": [],
   "source": []
  }
 ],
 "metadata": {
  "kernelspec": {
   "display_name": "Python 3.8.13 ('karmma')",
   "language": "python",
   "name": "python3"
  },
  "language_info": {
   "codemirror_mode": {
    "name": "ipython",
    "version": 3
   },
   "file_extension": ".py",
   "mimetype": "text/x-python",
   "name": "python",
   "nbconvert_exporter": "python",
   "pygments_lexer": "ipython3",
   "version": "3.8.13"
  },
  "orig_nbformat": 4,
  "vscode": {
   "interpreter": {
    "hash": "91419c8b6117786492fef1b466333704a5d302f012c63fa1242d88f499539a57"
   }
  }
 },
 "nbformat": 4,
 "nbformat_minor": 2
}
