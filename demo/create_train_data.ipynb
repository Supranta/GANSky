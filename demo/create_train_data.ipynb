{
 "cells": [
  {
   "cell_type": "code",
   "execution_count": null,
   "metadata": {},
   "outputs": [],
   "source": [
    "import numpy as np\n",
    "import healpy as hp\n",
    "from tqdm.auto import tqdm\n",
    "from threadpoolctl import threadpool_limits\n",
    "from joblib import Parallel, delayed\n",
    "import pickle\n",
    "import os"
   ]
  },
  {
   "cell_type": "code",
   "execution_count": null,
   "metadata": {},
   "outputs": [],
   "source": [
    "nside = 512\n",
    "gen_nside = 4 * nside\n",
    "lmax = 2 * gen_nside\n",
    "\n",
    "nmocks = 10\n",
    "mock_base_dir = '/spiff/pierfied/Simulations/des_y3_mocks'\n",
    "\n",
    "num_bins = 4"
   ]
  },
  {
   "cell_type": "code",
   "execution_count": null,
   "metadata": {},
   "outputs": [],
   "source": [
    "prior_params = pickle.load(open('lognorm_params.pkl', 'rb'))\n",
    "\n",
    "cl = prior_params['cl']\n",
    "y_cl = prior_params['y_cl']\n",
    "shift = prior_params['shift']\n",
    "mu = prior_params['mu']"
   ]
  },
  {
   "cell_type": "code",
   "execution_count": null,
   "metadata": {},
   "outputs": [],
   "source": [
    "size = np.deg2rad(2.5)\n",
    "resol = hp.nside2resol(2 * nside)\n",
    "size = int(np.ceil(size / resol))\n",
    "spacing = (np.arange(size) - size / 2 + 0.5) * resol\n",
    "x, y = np.meshgrid(spacing, spacing, indexing='xy')\n",
    "\n",
    "rho = np.sqrt(x**2 + y**2)\n",
    "c = np.arctan(rho)\n",
    "\n",
    "theta0 = 0\n",
    "phi0 = 0\n",
    "\n",
    "theta0 = np.pi / 2 - theta0\n",
    "theta = np.pi / 2 - np.arcsin(np.cos(c) * np.sin(theta0) + y * np.sin(c) * np.cos(theta0) / (rho + 1e-8))\n",
    "phi = phi0 + np.arctan2(x * np.sin(c), rho * np.cos(theta0) * np.cos(c) - y * np.sin(theta0) * np.sin(c))\n",
    "\n",
    "mask = np.zeros(hp.nside2npix(nside), dtype=bool)\n",
    "mask[hp.ang2pix(nside, theta, phi)] = True\n",
    "\n",
    "np.save('disc_mask.npy', mask)"
   ]
  },
  {
   "cell_type": "code",
   "execution_count": null,
   "metadata": {},
   "outputs": [],
   "source": [
    "size = np.deg2rad(3.5)\n",
    "resol = hp.nside2resol(2 * nside)\n",
    "size = int(np.ceil(size / resol))\n",
    "spacing = (np.arange(size) - size / 2 + 0.5) * resol\n",
    "x, y = np.meshgrid(spacing, spacing, indexing='xy')\n",
    "\n",
    "rho = np.sqrt(x**2 + y**2)\n",
    "c = np.arctan(rho)\n",
    "\n",
    "theta0 = 0\n",
    "phi0 = 0\n",
    "\n",
    "theta0 = np.pi / 2 - theta0\n",
    "theta = np.pi / 2 - np.arcsin(np.cos(c) * np.sin(theta0) + y * np.sin(c) * np.cos(theta0) / (rho + 1e-8))\n",
    "phi = phi0 + np.arctan2(x * np.sin(c), rho * np.cos(theta0) * np.cos(c) - y * np.sin(theta0) * np.sin(c))\n",
    "\n",
    "mask = np.zeros(hp.nside2npix(nside), dtype=bool)\n",
    "mask[hp.ang2pix(nside, theta, phi)] = True\n",
    "\n",
    "np.save('gen_mask.npy', mask)"
   ]
  },
  {
   "cell_type": "code",
   "execution_count": null,
   "metadata": {},
   "outputs": [],
   "source": [
    "def rotation_matrix_from_vectors(vec1, vec2):\n",
    "    \"\"\" Find the rotation matrix that aligns vec1 to vec2\n",
    "    :param vec1: A 3d \"source\" vector\n",
    "    :param vec2: A 3d \"destination\" vector\n",
    "    :return mat: A transform matrix (3x3) which when applied to vec1, aligns it with vec2.\n",
    "    \"\"\"\n",
    "    a, b = (vec1 / np.linalg.norm(vec1)).reshape(3), (vec2 / np.linalg.norm(vec2)).reshape(3)\n",
    "    v = np.cross(a, b)\n",
    "    c = np.dot(a, b)\n",
    "    s = np.linalg.norm(v)\n",
    "    kmat = np.array([[0, -v[2], v[1]], [v[2], 0, -v[0]], [-v[1], v[0], 0]])\n",
    "    rotation_matrix = np.eye(3) + kmat + kmat.dot(kmat) * ((1 - c) / (s ** 2))\n",
    "    return rotation_matrix\n",
    "\n",
    "ref_vec = np.array([0, 0, 1])\n",
    "rot_vecs = np.array(hp.pix2vec(16, np.arange(hp.nside2npix(16)))).T\n",
    "\n",
    "rot_mats = np.array([rotation_matrix_from_vectors(ref_vec, vec) for vec in rot_vecs])"
   ]
  },
  {
   "cell_type": "code",
   "execution_count": null,
   "metadata": {},
   "outputs": [],
   "source": [
    "nside_fac = 4\n",
    "\n",
    "mask_pix = np.arange(hp.nside2npix(2 * nside))[hp.ud_grade(mask, 2 * nside)]\n",
    "mask_vec = np.array(hp.pix2vec(2 * nside, mask_pix))\n",
    "\n",
    "nest_mask = hp.reorder(mask, r2n=True)\n",
    "\n",
    "hr_pix_inds = np.arange(hp.nside2npix(nside * nside_fac))\n",
    "\n",
    "def precompute_rot(ind):\n",
    "    with threadpool_limits(limits=1):\n",
    "        rot_mask_vec = rot_mats[ind] @ mask_vec\n",
    "        rot_mask_pix = hp.vec2pix(nside, rot_mask_vec[0], rot_mask_vec[1], rot_mask_vec[2])\n",
    "        rot_mask = np.zeros(hp.nside2npix(nside), dtype=bool)\n",
    "        rot_mask[rot_mask_pix] = True\n",
    "\n",
    "        rot_mask_hr = hp.ud_grade(rot_mask, nside_fac * nside)\n",
    "        pix = hr_pix_inds[rot_mask_hr]\n",
    "        vec = np.array(hp.pix2vec(nside * nside_fac, pix))\n",
    "        rot_vec = rot_mats[ind].T @ vec\n",
    "        rot_pix = hp.vec2pix(nside, rot_vec[0], rot_vec[1], rot_vec[2], nest=True)\n",
    "\n",
    "        return pix, rot_pix\n",
    "\n",
    "rots = Parallel(n_jobs=-1)(delayed(precompute_rot)(ind) for ind in tqdm(range(len(rot_mats))))"
   ]
  },
  {
   "cell_type": "code",
   "execution_count": null,
   "metadata": {},
   "outputs": [],
   "source": [
    "os.system('rm -rf data')\n",
    "os.system('mkdir -p data/real')\n",
    "os.system('mkdir -p data/fake')\n",
    "\n",
    "for sim_num in tqdm(range(nmocks)):\n",
    "    alm = hp.synalm(y_cl, lmax=lmax, new=False)\n",
    "    khr_train = np.exp(mu[:,None] + hp.alm2map(alm, gen_nside, pol=False)) - shift[:,None]\n",
    "    khr_sim = hp.ud_grade(np.load(f'{mock_base_dir}/mocks/mock_{sim_num}.npy')[:,0,:], nside * nside_fac)\n",
    "\n",
    "    def generate_patches(ind):\n",
    "        rot_mask_hr, rot_pix = rots[ind]\n",
    "\n",
    "        m_train = np.zeros([num_bins, hp.nside2npix(nside)])\n",
    "        m_sim = np.zeros([num_bins, hp.nside2npix(nside)])\n",
    "        c = np.zeros(hp.nside2npix(nside))\n",
    "        at_inds = (np.concatenate([np.ones_like(rot_pix) * i for i in range(num_bins)]), np.tile(rot_pix, num_bins))\n",
    "        np.add.at(m_train, at_inds, khr_train[:,rot_mask_hr].ravel())\n",
    "        np.add.at(m_sim, at_inds, khr_sim[:,rot_mask_hr].ravel())\n",
    "        np.add.at(c, rot_pix, 1)\n",
    "        m_train = m_train[:,nest_mask] / c[None,nest_mask]\n",
    "        m_sim = m_sim[:,nest_mask] / c[None,nest_mask]\n",
    "\n",
    "        np.save(f'data/fake/{sim_num}_{ind}.npy', m_train.astype(np.float32))\n",
    "        np.save(f'data/real/{sim_num}_{ind}.npy', m_sim.astype(np.float32))\n",
    "\n",
    "    for ind in tqdm(range(len(rot_mats))):\n",
    "        generate_patches(ind)"
   ]
  },
  {
   "cell_type": "code",
   "execution_count": null,
   "metadata": {},
   "outputs": [],
   "source": []
  }
 ],
 "metadata": {
  "kernelspec": {
   "display_name": "Python 3.8.13 ('karmma')",
   "language": "python",
   "name": "python3"
  },
  "language_info": {
   "codemirror_mode": {
    "name": "ipython",
    "version": 3
   },
   "file_extension": ".py",
   "mimetype": "text/x-python",
   "name": "python",
   "nbconvert_exporter": "python",
   "pygments_lexer": "ipython3",
   "version": "3.8.13"
  },
  "orig_nbformat": 4,
  "vscode": {
   "interpreter": {
    "hash": "91419c8b6117786492fef1b466333704a5d302f012c63fa1242d88f499539a57"
   }
  }
 },
 "nbformat": 4,
 "nbformat_minor": 2
}
