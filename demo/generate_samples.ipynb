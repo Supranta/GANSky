{
 "cells": [
  {
   "cell_type": "code",
   "execution_count": null,
   "metadata": {},
   "outputs": [],
   "source": [
    "import sys\n",
    "sys.path.append('../')\n",
    "import numpy as np\n",
    "import healpy as hp\n",
    "import torch\n",
    "from wlgan.model import Generator, compute_avg_mat\n",
    "import pickle\n",
    "import os\n",
    "from tqdm.auto import tqdm, trange"
   ]
  },
  {
   "cell_type": "code",
   "execution_count": null,
   "metadata": {},
   "outputs": [],
   "source": [
    "nside = 512\n",
    "gen_nside = 4 * nside\n",
    "lmax = 2 * gen_nside\n",
    "\n",
    "num_bins = 4\n",
    "\n",
    "mask = np.ones(hp.nside2npix(nside), dtype=bool)\n",
    "\n",
    "nmocks = 28"
   ]
  },
  {
   "cell_type": "code",
   "execution_count": null,
   "metadata": {},
   "outputs": [],
   "source": [
    "lognorm_params = pickle.load(open('lognorm_params.pkl', 'rb'))\n",
    "\n",
    "cl = lognorm_params['cl']\n",
    "y_cl = lognorm_params['y_cl']\n",
    "shift = lognorm_params['shift']\n",
    "mu = lognorm_params['mu']"
   ]
  },
  {
   "cell_type": "code",
   "execution_count": null,
   "metadata": {},
   "outputs": [],
   "source": [
    "device = torch.device('cpu')\n",
    "\n",
    "avg_mat = compute_avg_mat(nside, mask).to(device)\n",
    "\n",
    "ckpt = torch.load('ckpt.pt', map_location=device)\n",
    "gen = Generator(num_bins, avg_mat).to(device)\n",
    "gen.load_state_dict(ckpt['gen_ema'])"
   ]
  },
  {
   "cell_type": "code",
   "execution_count": null,
   "metadata": {},
   "outputs": [],
   "source": [
    "def generate_lognorm_map(nside):\n",
    "    alm = hp.synalm(y_cl, lmax=lmax, new=False)\n",
    "    k = np.exp(mu[:,None] + hp.alm2map(alm, gen_nside, pol=False)) - shift[:,None]\n",
    "    k = hp.ud_grade(k, nside)\n",
    "    return k\n",
    "\n",
    "os.system('rm -rf gan_mocks')\n",
    "os.system('mkdir -p gan_mocks')\n",
    "\n",
    "os.system('rm -rf lognorm_mocks')\n",
    "os.system('mkdir -p lognorm_mocks')\n",
    "\n",
    "for i in trange(nmocks):\n",
    "    with torch.no_grad():\n",
    "        k_ln = generate_lognorm_map(nside)\n",
    "        x_ln = torch.tensor(hp.reorder(k_ln, r2n=True))[None,...].to(device, dtype=torch.float32) / 0.01\n",
    "        x_gan = gen(x_ln)\n",
    "        k_gan = hp.reorder((x_gan * 0.01).view(num_bins,-1).cpu().numpy(), n2r=True)\n",
    "        np.save(f'gan_mocks/mock_{i}.npy', k_gan)\n",
    "        np.save(f'lognorm_mocks/mock_{i}.npy', k_ln)"
   ]
  },
  {
   "cell_type": "code",
   "execution_count": null,
   "metadata": {},
   "outputs": [],
   "source": []
  }
 ],
 "metadata": {
  "kernelspec": {
   "display_name": "Python 3.8.13 ('karmma')",
   "language": "python",
   "name": "python3"
  },
  "language_info": {
   "codemirror_mode": {
    "name": "ipython",
    "version": 3
   },
   "file_extension": ".py",
   "mimetype": "text/x-python",
   "name": "python",
   "nbconvert_exporter": "python",
   "pygments_lexer": "ipython3",
   "version": "3.8.13"
  },
  "orig_nbformat": 4,
  "vscode": {
   "interpreter": {
    "hash": "91419c8b6117786492fef1b466333704a5d302f012c63fa1242d88f499539a57"
   }
  }
 },
 "nbformat": 4,
 "nbformat_minor": 2
}
